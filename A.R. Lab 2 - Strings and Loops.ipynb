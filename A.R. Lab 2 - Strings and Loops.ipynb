{
 "cells": [
  {
   "cell_type": "markdown",
   "id": "455c8e24",
   "metadata": {},
   "source": [
    "Lab xx - [Ameer] [Reese]"
   ]
  },
  {
   "cell_type": "markdown",
   "id": "4455c85d",
   "metadata": {},
   "source": [
    "Date - [Month] [Day] 2023"
   ]
  },
  {
   "cell_type": "markdown",
   "id": "f323f71d",
   "metadata": {},
   "source": [
    "QUESTION 1\n",
    "\n",
    "Create a for loop that will iterate over the string named superLongWord and print each letter in its value."
   ]
  },
  {
   "cell_type": "code",
   "execution_count": 4,
   "id": "48b80282",
   "metadata": {},
   "outputs": [
    {
     "name": "stdout",
     "output_type": "stream",
     "text": [
      "s\n",
      "u\n",
      "p\n",
      "e\n",
      "r\n",
      "c\n",
      "a\n",
      "l\n",
      "i\n",
      "f\n",
      "r\n",
      "a\n",
      "g\n",
      "i\n",
      "l\n",
      "i\n",
      "s\n",
      "t\n",
      "i\n",
      "c\n",
      "e\n",
      "x\n",
      "p\n",
      "i\n",
      "a\n",
      "l\n",
      "i\n",
      "d\n",
      "o\n",
      "c\n",
      "i\n",
      "o\n",
      "u\n",
      "s\n"
     ]
    }
   ],
   "source": [
    "superLongWord = \"supercalifragilisticexpialidocious\"\n",
    "#Enter code below this line\n",
    "for element in range(0, len(superLongWord)):\n",
    "    print(superLongWord[element])\n"
   ]
  },
  {
   "cell_type": "markdown",
   "id": "c43d840f",
   "metadata": {},
   "source": [
    "Question 2\n",
    "\n",
    "Create a for loop that will iterate over the string named superLongNumber and print each number in its value."
   ]
  },
  {
   "cell_type": "code",
   "execution_count": 5,
   "id": "4e16cdad",
   "metadata": {},
   "outputs": [
    {
     "name": "stdout",
     "output_type": "stream",
     "text": [
      "0\n",
      "1\n",
      "2\n",
      "0\n",
      "3\n",
      "4\n",
      "4\n",
      "5\n",
      "9\n",
      "5\n",
      "7\n",
      "9\n",
      "3\n",
      "2\n",
      "1\n",
      "2\n",
      "3\n",
      "2\n",
      "3\n",
      "9\n",
      "2\n",
      "1\n",
      "2\n",
      "0\n",
      "8\n",
      "4\n",
      "5\n",
      "6\n",
      "6\n",
      "1\n",
      "0\n",
      "1\n"
     ]
    }
   ],
   "source": [
    "superLongNumber = \"01203445957932123239212084566101\"\n",
    "#Enter code below this line\n",
    "for i in range(len(superLongNumber)):\n",
    "    print(superLongNumber[i])\n"
   ]
  },
  {
   "cell_type": "markdown",
   "id": "8309ce70",
   "metadata": {},
   "source": [
    "Question 3\n",
    "\n",
    "create an array with the variables above."
   ]
  },
  {
   "cell_type": "code",
   "execution_count": 9,
   "id": "acff8a4e",
   "metadata": {},
   "outputs": [
    {
     "name": "stdout",
     "output_type": "stream",
     "text": [
      "['supercalifragilisticexpialidocious', '01203445957932123239212084566101']\n",
      "<class 'list'>\n"
     ]
    }
   ],
   "source": [
    "\n",
    "arr = list([superLongWord, superLongNumber])\n",
    "\n",
    "print(arr)\n",
    "\n",
    "print(type(arr))"
   ]
  },
  {
   "cell_type": "markdown",
   "id": "e213c1e1",
   "metadata": {},
   "source": [
    "QUESTION 4\n",
    "\n",
    "Get the length of the array and create a while loop that will iterate over the elements of the array."
   ]
  },
  {
   "cell_type": "code",
   "execution_count": 10,
   "id": "52169529",
   "metadata": {},
   "outputs": [
    {
     "name": "stdout",
     "output_type": "stream",
     "text": [
      "list[0]\n",
      "list[1]\n"
     ]
    }
   ],
   "source": [
    "length = len(arr)\n",
    "i = 0\n",
    "while i < length:\n",
    "    print(list[i])\n",
    "    i += 1\n"
   ]
  },
  {
   "cell_type": "markdown",
   "id": "752a87a4",
   "metadata": {},
   "source": [
    "QUESTION 5\n",
    "\n",
    "Create an infinite loop of the array."
   ]
  },
  {
   "cell_type": "code",
   "execution_count": 14,
   "id": "e4687c30",
   "metadata": {},
   "outputs": [
    {
     "ename": "SyntaxError",
     "evalue": "invalid syntax. Perhaps you forgot a comma? (4155283794.py, line 4)",
     "output_type": "error",
     "traceback": [
      "\u001b[0;36m  Cell \u001b[0;32mIn [14], line 4\u001b[0;36m\u001b[0m\n\u001b[0;31m    print(list[])\u001b[0m\n\u001b[0m          ^\u001b[0m\n\u001b[0;31mSyntaxError\u001b[0m\u001b[0;31m:\u001b[0m invalid syntax. Perhaps you forgot a comma?\n"
     ]
    }
   ],
   "source": [
    "length = len(arr)\n",
    "i = 0\n",
    "while i < length:\n",
    "    print(list[i])\n",
    "    "
   ]
  },
  {
   "cell_type": "markdown",
   "id": "d90eb6e2",
   "metadata": {},
   "source": [
    "QUESTION 6\n",
    "\n",
    "Create a loop that will increment the variable n until it reaches a value of 25."
   ]
  },
  {
   "cell_type": "code",
   "execution_count": 18,
   "id": "38afb137",
   "metadata": {},
   "outputs": [
    {
     "name": "stdout",
     "output_type": "stream",
     "text": [
      "0\n",
      "1\n",
      "2\n",
      "3\n",
      "4\n",
      "5\n",
      "6\n",
      "7\n",
      "8\n",
      "9\n",
      "10\n",
      "11\n",
      "12\n",
      "13\n",
      "14\n",
      "15\n",
      "16\n",
      "17\n",
      "18\n",
      "19\n",
      "20\n",
      "21\n",
      "22\n",
      "23\n",
      "24\n"
     ]
    }
   ],
   "source": [
    "length = len(arr)\n",
    "n = 0\n",
    "for n in range(0,25):\n",
    "    print(i)"
   ]
  },
  {
   "cell_type": "markdown",
   "id": "0ef182b9",
   "metadata": {},
   "source": [
    "QUESTION 7\n",
    "\n",
    "Create a loop that adds on letters to the variable named alaphabet until all letters of the alphabet have been added."
   ]
  },
  {
   "cell_type": "code",
   "execution_count": 22,
   "id": "a5522ece",
   "metadata": {},
   "outputs": [
    {
     "name": "stdout",
     "output_type": "stream",
     "text": [
      "A\n",
      "B\n",
      "C\n",
      "D\n",
      "E\n",
      "F\n",
      "G\n",
      "H\n",
      "I\n",
      "J\n",
      "K\n",
      "L\n",
      "M\n",
      "N\n",
      "O\n",
      "P\n",
      "Q\n",
      "R\n",
      "S\n",
      "T\n",
      "U\n",
      "V\n",
      "W\n",
      "X\n",
      "Y\n",
      "Z \n"
     ]
    }
   ],
   "source": [
    "alphabet = \"A\", \"B\", \"C\", \"D\", \"E\", \"F\", \"G\", \"H\",\"I\",\"J\",\"K\",\"L\",\"M\",\"N\",\"O\",\"P\",\"Q\",\"R\",\"S\",\"T\",\"U\",\"V\",\"W\",\"X\",\"Y\",\"Z \"\n",
    "for x in alphabet:\n",
    "    print(x)\n"
   ]
  },
  {
   "cell_type": "markdown",
   "id": "683beb07",
   "metadata": {},
   "source": [
    "QUESTION 8\n",
    "\n",
    "Create a loop that adds on numbers to the variable named twentyNums until all numbers 0-20 have been added."
   ]
  },
  {
   "cell_type": "code",
   "execution_count": 23,
   "id": "ddf44ba5",
   "metadata": {},
   "outputs": [
    {
     "name": "stdout",
     "output_type": "stream",
     "text": [
      "0\n",
      "1\n",
      "2\n",
      "3\n",
      "4\n",
      "5\n",
      "6\n",
      "7\n",
      "8\n",
      "9\n",
      "10\n",
      "11\n",
      "12\n",
      "13\n",
      "14\n",
      "15\n",
      "16\n",
      "17\n",
      "18\n",
      "19\n",
      "20\n"
     ]
    }
   ],
   "source": [
    "twentyNums = \"0\",\"1\",\"2\",\"3\",\"4\",\"5\",\"6\",\"7\",\"8\",\"9\",\"10\",\"11\",\"12\",\"13\",\"14\",\"15\",\"16\",\"17\",\"18\",\"19\",\"20\"\n",
    "for x in twentyNums:\n",
    "    print(x)"
   ]
  },
  {
   "cell_type": "code",
   "execution_count": null,
   "id": "03253d3c",
   "metadata": {},
   "outputs": [],
   "source": []
  },
  {
   "cell_type": "markdown",
   "id": "7bf65119",
   "metadata": {},
   "source": [
    "QUESTION 9\n",
    "\n",
    "Print the 20th letter in the variable alphabet."
   ]
  },
  {
   "cell_type": "code",
   "execution_count": 24,
   "id": "f1b4baa1",
   "metadata": {},
   "outputs": [
    {
     "name": "stdout",
     "output_type": "stream",
     "text": [
      "U\n"
     ]
    }
   ],
   "source": [
    "nine = alphabet[20]\n",
    "print(nine)"
   ]
  },
  {
   "cell_type": "markdown",
   "id": "a38c3759",
   "metadata": {},
   "source": [
    "QUESTION 10\n",
    "\n",
    "Print the 13th number in the variable twentyNums."
   ]
  },
  {
   "cell_type": "code",
   "execution_count": 25,
   "id": "d4a2322f",
   "metadata": {},
   "outputs": [
    {
     "name": "stdout",
     "output_type": "stream",
     "text": [
      "13\n"
     ]
    }
   ],
   "source": [
    "ten = twentyNums[13]\n",
    "print(ten)"
   ]
  },
  {
   "cell_type": "code",
   "execution_count": null,
   "id": "b07d2e8b-6ac3-4990-9948-148e49d9e37b",
   "metadata": {},
   "outputs": [],
   "source": []
  }
 ],
 "metadata": {
  "kernelspec": {
   "display_name": "Python 3 (ipykernel)",
   "language": "python",
   "name": "python3"
  },
  "language_info": {
   "codemirror_mode": {
    "name": "ipython",
    "version": 3
   },
   "file_extension": ".py",
   "mimetype": "text/x-python",
   "name": "python",
   "nbconvert_exporter": "python",
   "pygments_lexer": "ipython3",
   "version": "3.10.9"
  }
 },
 "nbformat": 4,
 "nbformat_minor": 5
}
