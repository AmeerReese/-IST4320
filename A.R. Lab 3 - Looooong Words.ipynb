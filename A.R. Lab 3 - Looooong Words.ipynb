{
 "cells": [
  {
   "cell_type": "markdown",
   "id": "01c2b5d7-a197-46f8-b276-503d84467784",
   "metadata": {},
   "source": [
    "Lab xx - [Ameer] [Reese]"
   ]
  },
  {
   "cell_type": "markdown",
   "id": "23bd8d3a-d11f-42bb-b6b9-d1e6343056e4",
   "metadata": {},
   "source": [
    "Date - [2] [17] 2023"
   ]
  },
  {
   "cell_type": "markdown",
   "id": "6da411ee-035e-4a23-8b5c-981165a40494",
   "metadata": {},
   "source": [
    "Howdy hey coyotays!\n",
    "\n",
    "The goal with this lab is to learn how to identify when and how to implement what we've been practicing up uuntil this point: Strings, functions, manipulating strings, arrays/lists, and loops."
   ]
  },
  {
   "cell_type": "markdown",
   "id": "34a34cc2-616b-4d66-82cb-1bc566c0f79c",
   "metadata": {},
   "source": [
    "Sometimes long words like \"supercalifragilisticexpialidocious\" are tiresome to write multiple times in a text. "
   ]
  },
  {
   "cell_type": "markdown",
   "id": "b273d54b-fd67-473d-b2a8-31d33343bd68",
   "metadata": {},
   "source": [
    "We will consider a word too long if its more than 10 characters. We will replace these words with an abbreviation."
   ]
  },
  {
   "cell_type": "markdown",
   "id": "98048c92-f177-492a-ac5a-6513882bb23d",
   "metadata": {},
   "source": [
    "The abbreviation will be as follows:\n",
    "\n",
    "First character of word, number of characters between the first and last characters, and the last charater of the word. \n",
    "\n",
    "Example:\n",
    "Given the word supercalifragilisticexpialidocious, the abbreviation should be:\n",
    "s32s\n",
    "\n",
    "We see that the first character of the word is \"s\", the last character is \"s\" and the number of characters between those two are 32."
   ]
  },
  {
   "cell_type": "markdown",
   "id": "59e3a15c-5156-4dd0-b49e-21269c7b5fea",
   "metadata": {},
   "source": [
    "Your task is to create a function that will automatically abbreviate words that are too long, leaving other words that are 10 characters or less unchanged. Make sure to print out all words changed or unchanged.\n",
    "\n",
    "Your code should take multiple user inputs (give the user the option to keep entering words)\n",
    "\n",
    "Hint: Your function should take in the number of elements in the list and the list itself as parameters."
   ]
  },
  {
   "cell_type": "code",
   "execution_count": 2,
   "id": "aed4af21-ee83-403e-bbbf-06563371675d",
   "metadata": {},
   "outputs": [],
   "source": [
    "inputWords = [] #you will store user input here\n",
    "\n",
    "#### ENTER CODE BELOW THIS LINE ###"
   ]
  },
  {
   "cell_type": "code",
   "execution_count": 5,
   "id": "767dd68d-76b9-4b29-a21b-3ca5e73406a6",
   "metadata": {},
   "outputs": [
    {
     "name": "stdin",
     "output_type": "stream",
     "text": [
      "How many words do you want to abbreviate?  2\n",
      "Enter word 1:  supercalifragilisticexpialidocious\n",
      "Enter word 2:  jameasonmitchell\n"
     ]
    },
    {
     "name": "stdout",
     "output_type": "stream",
     "text": [
      "supercalifragilisticexpialidocious -> s32s\n",
      "jameasonmitchell -> j14l\n",
      "['s32s', 'j14l']\n"
     ]
    }
   ],
   "source": [
    "def abbreviate_words(num_words, words_list):\n",
    "    abbreviated_words = []\n",
    "    for word in words_list:\n",
    "        if len(word) > 10:\n",
    "            abbreviated_word = word[0] + str(len(word) - 2) + word[-1]\n",
    "            abbreviated_words.append(abbreviated_word)\n",
    "            print(f\"{word} -> {abbreviated_word}\")\n",
    "        else:\n",
    "            abbreviated_words.append(word)\n",
    "            print(word)\n",
    "    return abbreviated_words\n",
    "# Prompt user for number of words to abbreviate\n",
    "num_words = int(input(\"How many words do you want to abbreviate? \"))\n",
    "\n",
    "# Prompt user to enter each word and add to list\n",
    "words_list = []\n",
    "for i in range(num_words):\n",
    "    word = input(f\"Enter word {i+1}: \")\n",
    "    words_list.append(word)\n",
    "\n",
    "# Call abbreviate_words function and print out the returned list\n",
    "abbreviated_list = abbreviate_words(num_words, words_list)\n",
    "print(abbreviated_list)\n",
    "\n"
   ]
  },
  {
   "cell_type": "code",
   "execution_count": null,
   "id": "1ec5555a-7518-43fc-9a74-6cf6ade1bf9f",
   "metadata": {},
   "outputs": [],
   "source": []
  }
 ],
 "metadata": {
  "kernelspec": {
   "display_name": "Python 3 (ipykernel)",
   "language": "python",
   "name": "python3"
  },
  "language_info": {
   "codemirror_mode": {
    "name": "ipython",
    "version": 3
   },
   "file_extension": ".py",
   "mimetype": "text/x-python",
   "name": "python",
   "nbconvert_exporter": "python",
   "pygments_lexer": "ipython3",
   "version": "3.10.9"
  }
 },
 "nbformat": 4,
 "nbformat_minor": 5
}
